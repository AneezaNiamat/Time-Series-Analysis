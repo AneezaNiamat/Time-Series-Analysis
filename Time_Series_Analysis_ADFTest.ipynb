{
  "nbformat": 4,
  "nbformat_minor": 0,
  "metadata": {
    "colab": {
      "name": "Time Series Analysis ADFTest.ipynb",
      "provenance": []
    },
    "kernelspec": {
      "name": "python3",
      "display_name": "Python 3"
    }
  },
  "cells": [
    {
      "cell_type": "code",
      "metadata": {
        "id": "Rf2qwVcKOLh6"
      },
      "source": [
        "# Time series data structure \r\n",
        "import pandas as pd\r\n",
        "import matplotlib.pyplot as plt\r\n",
        "%matplotlib inline\r\n",
        "from statsmodels.tsa.stattools import adfuller\r\n",
        "from numpy import log\r\n",
        "import math"
      ],
      "execution_count": null,
      "outputs": []
    },
    {
      "cell_type": "code",
      "metadata": {
        "id": "ILN5RdKQQg46"
      },
      "source": [
        "df=pd.read_csv('/content/airline-passengers.csv', header=0, index_col=0, squeeze=True)"
      ],
      "execution_count": null,
      "outputs": []
    },
    {
      "cell_type": "code",
      "metadata": {
        "colab": {
          "base_uri": "https://localhost:8080/"
        },
        "id": "ycOAJboJQz4Y",
        "outputId": "c36bb96e-815d-4746-bc81-975c90960d84"
      },
      "source": [
        "#put alll values in x variable\r\n",
        "X=df.values\r\n",
        "#app addfuller test on the data (x) and stores it in Result\r\n",
        "result= adfuller(X)\r\n",
        "result"
      ],
      "execution_count": null,
      "outputs": [
        {
          "output_type": "execute_result",
          "data": {
            "text/plain": [
              "(0.815368879206047,\n",
              " 0.991880243437641,\n",
              " 13,\n",
              " 130,\n",
              " {'1%': -3.4816817173418295,\n",
              "  '10%': -2.578770059171598,\n",
              "  '5%': -2.8840418343195267},\n",
              " 996.6929308390189)"
            ]
          },
          "metadata": {
            "tags": []
          },
          "execution_count": 8
        }
      ]
    },
    {
      "cell_type": "code",
      "metadata": {
        "colab": {
          "base_uri": "https://localhost:8080/"
        },
        "id": "yLObRf9YXEt3",
        "outputId": "56e89d8f-1bb9-44ee-f342-f2340bd4f425"
      },
      "source": [
        "X_log = log(X)\r\n",
        "result_log= adfuller(X_log)\r\n",
        "result_log\r\n"
      ],
      "execution_count": null,
      "outputs": [
        {
          "output_type": "execute_result",
          "data": {
            "text/plain": [
              "(-1.7170170891069605,\n",
              " 0.42236677477039125,\n",
              " 13,\n",
              " 130,\n",
              " {'1%': -3.4816817173418295,\n",
              "  '10%': -2.578770059171598,\n",
              "  '5%': -2.8840418343195267},\n",
              " -445.3990312497209)"
            ]
          },
          "metadata": {
            "tags": []
          },
          "execution_count": 20
        }
      ]
    },
    {
      "cell_type": "code",
      "metadata": {
        "colab": {
          "base_uri": "https://localhost:8080/"
        },
        "id": "KBORyy3eSBGH",
        "outputId": "4caf4cfd-85ce-4a8c-bdb5-2a431c84596d"
      },
      "source": [
        "print('ADF Statistics: %f' %result[0])\r\n",
        "print('p_values: %f' %result[1])\r\n",
        "print('Critical Values:')\r\n",
        "for key, value in result[4].items():\r\n",
        "  print('\\t%s: %.3f' %(key, value))"
      ],
      "execution_count": null,
      "outputs": [
        {
          "output_type": "stream",
          "text": [
            "ADF Statistics: 0.815369\n",
            "p_values: 0.991880\n",
            "Critical Values:\n",
            "\t1%: -3.482\n",
            "\t5%: -2.884\n",
            "\t10%: -2.579\n"
          ],
          "name": "stdout"
        }
      ]
    },
    {
      "cell_type": "code",
      "metadata": {
        "colab": {
          "base_uri": "https://localhost:8080/"
        },
        "id": "c10COVVrSyGd",
        "outputId": "ae71eb2f-32c5-4113-f956-d410e1add248"
      },
      "source": [
        "if result[0]<result[4]['5%']:\r\n",
        "  print('Rejected Null Hypothesis- so the time series is non stationary')\r\n",
        "else:\r\n",
        "  print('Fail to Reject Null Hypothesis- so the time series is stationary')"
      ],
      "execution_count": null,
      "outputs": [
        {
          "output_type": "stream",
          "text": [
            "Fail to Reject Null Hypothesis- so the time series is stationary\n"
          ],
          "name": "stdout"
        }
      ]
    },
    {
      "cell_type": "code",
      "metadata": {
        "id": "qmZZerjjVDtL"
      },
      "source": [
        ""
      ],
      "execution_count": null,
      "outputs": []
    }
  ]
}