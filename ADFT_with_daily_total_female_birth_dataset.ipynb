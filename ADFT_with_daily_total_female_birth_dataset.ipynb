{
  "nbformat": 4,
  "nbformat_minor": 0,
  "metadata": {
    "colab": {
      "name": "ADFT with daily_total_female_birth dataset.ipynb",
      "provenance": []
    },
    "kernelspec": {
      "name": "python3",
      "display_name": "Python 3"
    }
  },
  "cells": [
    {
      "cell_type": "code",
      "metadata": {
        "colab": {
          "base_uri": "https://localhost:8080/"
        },
        "id": "VmmTElGKXlgY",
        "outputId": "1ec188f8-54fe-4e7e-df15-84577b9294e3"
      },
      "source": [
        "# Time series data structure \r\n",
        "import pandas as pd\r\n",
        "import matplotlib.pyplot as plt\r\n",
        "%matplotlib inline\r\n",
        "from statsmodels.tsa.stattools import adfuller\r\n",
        "from numpy import log\r\n",
        "import math"
      ],
      "execution_count": null,
      "outputs": [
        {
          "output_type": "stream",
          "text": [
            "/usr/local/lib/python3.6/dist-packages/statsmodels/tools/_testing.py:19: FutureWarning: pandas.util.testing is deprecated. Use the functions in the public API at pandas.testing instead.\n",
            "  import pandas.util.testing as tm\n"
          ],
          "name": "stderr"
        }
      ]
    },
    {
      "cell_type": "code",
      "metadata": {
        "id": "31y7yzkaXpEf"
      },
      "source": [
        "df=pd.read_csv('/content/daily-total-female-births.csv', header=0, index_col=0, squeeze=True)"
      ],
      "execution_count": null,
      "outputs": []
    },
    {
      "cell_type": "code",
      "metadata": {
        "colab": {
          "base_uri": "https://localhost:8080/"
        },
        "id": "A4aJM1mOX5lN",
        "outputId": "934fb3cd-e0ff-4f17-f2e4-9214b1d27de3"
      },
      "source": [
        "#put alll values in x variable\r\n",
        "X=df.values\r\n",
        "#app addfuller test on the data (x) and stores it in Result\r\n",
        "result= adfuller(X)\r\n",
        "result"
      ],
      "execution_count": null,
      "outputs": [
        {
          "output_type": "execute_result",
          "data": {
            "text/plain": [
              "(-4.808291253559765,\n",
              " 5.2434129901498554e-05,\n",
              " 6,\n",
              " 358,\n",
              " {'1%': -3.448748905151901,\n",
              "  '10%': -2.5710891239349585,\n",
              "  '5%': -2.8696473721448728},\n",
              " 2343.8290926464197)"
            ]
          },
          "metadata": {
            "tags": []
          },
          "execution_count": 3
        }
      ]
    },
    {
      "cell_type": "code",
      "metadata": {
        "colab": {
          "base_uri": "https://localhost:8080/"
        },
        "id": "p9QzzhvRX8fd",
        "outputId": "c8c47c4f-09cf-4fc8-ef7e-ae5674921b6b"
      },
      "source": [
        "print('ADF Statistics: %f' %result[0])\r\n",
        "print('p_values: %f' %result[1])\r\n",
        "print('Critical Values:')\r\n",
        "for key, value in result[4].items():\r\n",
        "  print('\\t%s: %.3f' %(key, value))"
      ],
      "execution_count": null,
      "outputs": [
        {
          "output_type": "stream",
          "text": [
            "ADF Statistics: -4.808291\n",
            "p_values: 0.000052\n",
            "Critical Values:\n",
            "\t1%: -3.449\n",
            "\t5%: -2.870\n",
            "\t10%: -2.571\n"
          ],
          "name": "stdout"
        }
      ]
    },
    {
      "cell_type": "code",
      "metadata": {
        "id": "6c751VV8YO2c",
        "colab": {
          "base_uri": "https://localhost:8080/"
        },
        "outputId": "1901350f-c1ae-45ca-ae65-2b07d9b9dbca"
      },
      "source": [
        "if result[0]<result[4]['5%']:\r\n",
        "  print('Rejected Null Hypothesis- so the time series is non stationary')\r\n",
        "else:\r\n",
        "  print('Fail to Reject Null Hypothesis- so the time series is stationary')"
      ],
      "execution_count": null,
      "outputs": [
        {
          "output_type": "stream",
          "text": [
            "Rejected Null Hypothesis- so the time series is non stationary\n"
          ],
          "name": "stdout"
        }
      ]
    },
    {
      "cell_type": "code",
      "metadata": {
        "id": "qoQK1j55YSK9"
      },
      "source": [
        ""
      ],
      "execution_count": null,
      "outputs": []
    }
  ]
}